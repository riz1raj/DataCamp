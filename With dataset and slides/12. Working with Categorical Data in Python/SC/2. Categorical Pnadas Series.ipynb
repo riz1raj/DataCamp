{
 "cells": [
  {
   "cell_type": "code",
   "execution_count": null,
   "metadata": {},
   "outputs": [],
   "source": [
    "Setting category variables"
   ]
  },
  {
   "cell_type": "code",
   "execution_count": null,
   "metadata": {},
   "outputs": [],
   "source": [
    "# Latihan 1\n",
    "# Check frequency counts while also printing the `NaN` count:\n",
    "print(dogs[\"keep_in\"].value_counts(dropna=False))"
   ]
  },
  {
   "cell_type": "code",
   "execution_count": null,
   "metadata": {},
   "outputs": [],
   "source": [
    "# Check frequency counts while also printing the NaN count\n",
    "print(dogs[\"keep_in\"].value_counts(dropna=False))\n",
    "\n",
    "# Switch to a categorical variable\n",
    "dogs[\"keep_in\"] = dogs['keep_in'].astype('category')"
   ]
  },
  {
   "cell_type": "code",
   "execution_count": null,
   "metadata": {},
   "outputs": [],
   "source": [
    "# Check frequency counts while also printing the NaN count\n",
    "print(dogs[\"keep_in\"].value_counts(dropna=False))\n",
    "\n",
    "# Switch to a categorical variable\n",
    "dogs[\"keep_in\"] = dogs[\"keep_in\"].astype(\"category\")\n",
    "\n",
    "# Add new categories\n",
    "new_categories = [\"Unknown History\", \"Open Yard (Countryside)\"]\n",
    "dogs[\"keep_in\"] = dogs[\"keep_in\"].cat.add_categories(new_categories)"
   ]
  },
  {
   "cell_type": "code",
   "execution_count": null,
   "metadata": {},
   "outputs": [],
   "source": [
    "# Check frequency counts while also printing the NaN count\n",
    "print(dogs[\"keep_in\"].value_counts(dropna=False))\n",
    "\n",
    "# Switch to a categorical variable\n",
    "dogs[\"keep_in\"] = dogs[\"keep_in\"].astype(\"category\")\n",
    "\n",
    "# Add new categories\n",
    "new_categories = [\"Unknown History\", \"Open Yard (Countryside)\"]\n",
    "dogs[\"keep_in\"] = dogs[\"keep_in\"].cat.add_categories(new_categories)\n",
    "\n",
    "# Check frequency counts one more time\n",
    "print(dogs['keep_in'].value_counts(dropna = False))"
   ]
  },
  {
   "cell_type": "code",
   "execution_count": null,
   "metadata": {},
   "outputs": [],
   "source": [
    "# Latihan 2\n",
    "# Set \"maybe\" to be \"no\"\n",
    "dogs.loc[dogs[\"likes_children\"] == \"maybe\", \"likes_children\"] = \"no\"\n",
    "\n",
    "# Print out categories\n",
    "print(dogs[\"likes_children\"].cat.categories)"
   ]
  },
  {
   "cell_type": "code",
   "execution_count": null,
   "metadata": {},
   "outputs": [],
   "source": [
    "# Set \"maybe\" to be \"no\"\n",
    "dogs.loc[dogs[\"likes_children\"] == \"maybe\", \"likes_children\"] = \"no\"\n",
    "\n",
    "# Print out categories\n",
    "print(dogs[\"likes_children\"].cat.categories)\n",
    "\n",
    "# Print the frequency table\n",
    "print(dogs['likes_children'].value_counts())"
   ]
  },
  {
   "cell_type": "code",
   "execution_count": null,
   "metadata": {},
   "outputs": [],
   "source": [
    "# Set \"maybe\" to be \"no\"\n",
    "dogs.loc[dogs[\"likes_children\"] == \"maybe\", \"likes_children\"] = \"no\"\n",
    "\n",
    "# Print out categories\n",
    "print(dogs[\"likes_children\"].cat.categories)\n",
    "\n",
    "# Print the frequency table\n",
    "print(dogs[\"likes_children\"].value_counts())\n",
    "\n",
    "# Remove the \"maybe\" category\n",
    "dogs[\"likes_children\"] = dogs['likes_children'].cat.remove_categories(removals=['maybe'])\n",
    "print(dogs[\"likes_children\"].value_counts())"
   ]
  },
  {
   "cell_type": "code",
   "execution_count": null,
   "metadata": {},
   "outputs": [],
   "source": [
    "# Set \"maybe\" to be \"no\"\n",
    "dogs.loc[dogs[\"likes_children\"] == \"maybe\", \"likes_children\"] = \"no\"\n",
    "\n",
    "# Print out categories\n",
    "print(dogs[\"likes_children\"].cat.categories)\n",
    "\n",
    "# Print the frequency table\n",
    "print(dogs[\"likes_children\"].value_counts())\n",
    "\n",
    "# Remove the `\"maybe\" category\n",
    "dogs[\"likes_children\"] = dogs[\"likes_children\"].cat.remove_categories([\"maybe\"])\n",
    "print(dogs[\"likes_children\"].value_counts())\n",
    "\n",
    "# Print the categories one more time\n",
    "print(dogs['likes_children'].cat.categories)"
   ]
  },
  {
   "cell_type": "markdown",
   "metadata": {},
   "source": [
    "Updating categories"
   ]
  },
  {
   "cell_type": "code",
   "execution_count": null,
   "metadata": {},
   "outputs": [],
   "source": [
    "# Latihan 1\n",
    "# Create the my_changes dictionary\n",
    "my_changes = {'Maybe?':'Maybe'}\n",
    "\n",
    "# Rename the categories listed in the my_changes dictionary\n",
    "dogs[\"likes_children\"] = dogs['likes_children'].cat.rename_categories(my_changes)\n",
    "\n",
    "# Use a lambda function to convert all categories to uppercase using upper()\n",
    "dogs[\"likes_children\"] =  dogs[\"likes_children\"].cat.rename_categories(lambda c: c.upper())\n",
    "\n",
    "# Print the list of categories\n",
    "print(dogs['likes_children'].cat.categories)"
   ]
  },
  {
   "cell_type": "code",
   "execution_count": null,
   "metadata": {},
   "outputs": [],
   "source": [
    "# Latihan 2\n",
    "# Create the update_coats dictionary\n",
    "update_coats = {\n",
    "  \"wirehaired\": \"medium\",\n",
    "  \"medium-long\": \"medium\"\n",
    "}\n",
    "\n",
    "# Create a new column, coat_collapsed\n",
    "dogs[\"coat_collapsed\"] = dogs[\"coat\"].replace(update_coats)\n",
    "\n",
    "# Convert the column to categorical\n",
    "dogs[\"coat_collapsed\"] = dogs[\"coat_collapsed\"].astype(\"category\")\n",
    "\n",
    "# Print the frequency table\n",
    "print(dogs[\"coat_collapsed\"].value_counts())"
   ]
  },
  {
   "cell_type": "markdown",
   "metadata": {},
   "source": [
    "Reordering categories"
   ]
  },
  {
   "cell_type": "code",
   "execution_count": null,
   "metadata": {},
   "outputs": [],
   "source": [
    "# Latihan 1\n",
    "# Print out the current categories of the size variable\n",
    "print(dogs['size'].cat.categories)\n",
    "\n",
    "# Print out the current categories of the size variable\n",
    "print(dogs[\"size\"].cat.categories)\n",
    "\n",
    "# Reorder the categories using the list provided\n",
    "dogs[\"size\"] = dogs['size'].cat.reorder_categories(new_categories = ['small', 'medium', 'large'])"
   ]
  },
  {
   "cell_type": "code",
   "execution_count": null,
   "metadata": {},
   "outputs": [],
   "source": [
    "# Print out the current categories of the size variable\n",
    "print(dogs[\"size\"].cat.categories)\n",
    "\n",
    "# Reorder the categories, specifying the Series is ordinal\n",
    "dogs[\"size\"] = dogs[\"size\"].cat.reorder_categories(\n",
    "  new_categories=[\"small\", \"medium\", \"large\"],\n",
    "  ordered = True\n",
    ")"
   ]
  },
  {
   "cell_type": "code",
   "execution_count": null,
   "metadata": {},
   "outputs": [],
   "source": [
    "# Print out the current categories of the size variable\n",
    "print(dogs[\"size\"].cat.categories)\n",
    "\n",
    "# Reorder the categories, specifying the Series is ordinal, and overwriting the original series\n",
    "dogs[\"size\"].cat.reorder_categories(\n",
    "  new_categories=[\"small\", \"medium\", \"large\"],\n",
    "  ordered=True,\n",
    "  inplace = True\n",
    ")"
   ]
  },
  {
   "cell_type": "code",
   "execution_count": null,
   "metadata": {},
   "outputs": [],
   "source": [
    "# Latihan 1\n",
    "# Previous code\n",
    "dogs[\"size\"].cat.reorder_categories(\n",
    "  new_categories=[\"small\", \"medium\", \"large\"],\n",
    "  ordered=True,\n",
    "  inplace=True\n",
    ")\n",
    "\n",
    "# How many Male/Female dogs are available of each size?\n",
    "print(dogs.groupby(\"size\")[\"sex\"].value_counts())\n",
    "\n",
    "# Do larger dogs need more room to roam?\n",
    "print(dogs.groupby(\"size\")[\"keep_in\"].value_counts(normalize=True))"
   ]
  },
  {
   "cell_type": "markdown",
   "metadata": {},
   "source": [
    "Cleaning and accessing data"
   ]
  },
  {
   "cell_type": "code",
   "execution_count": null,
   "metadata": {},
   "outputs": [],
   "source": [
    "# Latihan 1\n",
    "# Fix the misspelled word \n",
    "replace_map = {'Malez':'No'}"
   ]
  },
  {
   "cell_type": "code",
   "execution_count": null,
   "metadata": {},
   "outputs": [],
   "source": [
    "# Fix the misspelled word\n",
    "replace_map = {\"Malez\": \"male\"}\n",
    "\n",
    "# Update the sex column using the created map\n",
    "dogs[\"sex\"] = dogs[\"sex\"].replace(replace_map)\n",
    "\n",
    "print(dogs[\"sex\"].value_counts())"
   ]
  },
  {
   "cell_type": "code",
   "execution_count": null,
   "metadata": {},
   "outputs": [],
   "source": [
    "# Fix the misspelled word\n",
    "replace_map = {\"Malez\": \"male\"}\n",
    "\n",
    "# Update the sex column using the created map\n",
    "dogs[\"sex\"] = dogs[\"sex\"].replace(replace_map)\n",
    "\n",
    "# Strip away leading whitespace\n",
    "dogs[\"sex\"] = dogs[\"sex\"].str.strip()\n",
    "\n",
    "print(dogs[\"sex\"].value_counts())"
   ]
  },
  {
   "cell_type": "code",
   "execution_count": null,
   "metadata": {},
   "outputs": [],
   "source": [
    "# Fix the misspelled word\n",
    "replace_map = {\"Malez\": \"male\"}\n",
    "\n",
    "# Update the sex column using the created map\n",
    "dogs[\"sex\"] = dogs[\"sex\"].replace(replace_map)\n",
    "\n",
    "# Strip away leading whitespace\n",
    "dogs[\"sex\"] = dogs[\"sex\"].str.strip()\n",
    "\n",
    "# Make all responses lowercase\n",
    "dogs[\"sex\"] = dogs[\"sex\"].str.lower()\n",
    "\n",
    "print(dogs[\"sex\"].value_counts())"
   ]
  },
  {
   "cell_type": "code",
   "execution_count": null,
   "metadata": {},
   "outputs": [],
   "source": [
    "# Latihan 2\n",
    "# Print the category of the coat for ID 23807\n",
    "print(dogs.loc[23807, \"coat\"])"
   ]
  },
  {
   "cell_type": "code",
   "execution_count": null,
   "metadata": {},
   "outputs": [],
   "source": [
    "# Find the count of male and female dogs who have a \"long\" coat\n",
    "print(dogs.loc[dogs[\"coat\"] == \"long\", \"sex\"].value_counts())"
   ]
  },
  {
   "cell_type": "code",
   "execution_count": null,
   "metadata": {},
   "outputs": [],
   "source": [
    "# Print the mean age of dogs with a breed of \"English Cocker Spaniel\"\n",
    "print(dogs.loc[dogs[\"breed\"] == \"English Cocker Spaniel\", \"age\"].mean())"
   ]
  },
  {
   "cell_type": "code",
   "execution_count": null,
   "metadata": {},
   "outputs": [],
   "source": [
    "# Count the number of dogs that have \"English\" in their breed name\n",
    "print(dogs[dogs[\"breed\"].str.contains(\"English\", regex=False)].shape[0])"
   ]
  }
 ],
 "metadata": {
  "language_info": {
   "name": "python"
  },
  "orig_nbformat": 4
 },
 "nbformat": 4,
 "nbformat_minor": 2
}
