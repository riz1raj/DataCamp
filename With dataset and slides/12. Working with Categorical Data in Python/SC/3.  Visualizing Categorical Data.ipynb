{
 "cells": [
  {
   "cell_type": "code",
   "execution_count": null,
   "metadata": {},
   "outputs": [],
   "source": [
    "Introduction to categorical plots using Seaborn"
   ]
  },
  {
   "cell_type": "code",
   "execution_count": null,
   "metadata": {},
   "outputs": [],
   "source": [
    "# Latihan 1\n",
    "# Set the font size to 1.25\n",
    "sns.set(font_scale = 1.25)\n",
    "\n",
    "# Set the background to \"darkgrid\"\n",
    "sns.set_style(\"darkgrid\")\n",
    "\n",
    "# Create a boxplot\n",
    "sns.catplot(\n",
    "    x = \"Traveler type\",\n",
    "    y= \"Helpful votes\",\n",
    "    data = reviews,\n",
    "    kind = \"box\"\n",
    ")\n",
    "\n",
    "plt.show()"
   ]
  },
  {
   "cell_type": "markdown",
   "metadata": {},
   "source": [
    "Seaborn bar plots"
   ]
  },
  {
   "cell_type": "code",
   "execution_count": null,
   "metadata": {},
   "outputs": [],
   "source": [
    "# Latihan 1\n",
    "# Print the frequency counts of \"Period of stay\"\n",
    "print(reviews[\"Period of stay\"].value_counts())\n",
    "\n",
    "sns.set(font_scale=1.4)\n",
    "sns.set_style(\"whitegrid\")\n",
    "\n",
    "# Create a bar plot of \"Helpful votes\" by \"Period of stay\"\n",
    "sns.catplot(x = \"Period of stay\", y = \"Helpful votes\", data=reviews, kind=\"bar\")\n",
    "plt.show()"
   ]
  },
  {
   "cell_type": "code",
   "execution_count": null,
   "metadata": {},
   "outputs": [],
   "source": [
    "# Latihan 2\n",
    "# Create a bar chart\n",
    "sns.set(font_scale=.9)\n",
    "sns.set_style(\"whitegrid\")\n",
    "sns.catplot(x=\"User continent\", y=\"Score\", data=reviews, kind=\"bar\")\n",
    "plt.show()"
   ]
  },
  {
   "cell_type": "code",
   "execution_count": null,
   "metadata": {},
   "outputs": [],
   "source": [
    "# Create a bar chart\n",
    "sns.set(font_scale=.9)\n",
    "sns.set_style(\"whitegrid\")\n",
    "sns.catplot(x=\"User continent\", y=\"Score\", data=reviews, kind=\"bar\")\n",
    "\n",
    "# Print the frequency counts for \"User continent\"\n",
    "print(reviews['User continent'].value_counts())"
   ]
  },
  {
   "cell_type": "code",
   "execution_count": null,
   "metadata": {},
   "outputs": [],
   "source": [
    "# Set style\n",
    "sns.set(font_scale=.9)\n",
    "sns.set_style(\"whitegrid\")\n",
    "\n",
    "# Print the frequency counts for \"User continent\"\n",
    "print(reviews[\"User continent\"].value_counts())\n",
    "\n",
    "# Convert \"User continent\" to a categorical variable\n",
    "reviews[\"User continent\"] = reviews[\"User continent\"].astype(\"category\")\n",
    "sns.catplot(x=\"User continent\", y=\"Score\", data=reviews, kind=\"bar\")\n",
    "plt.show()"
   ]
  },
  {
   "cell_type": "code",
   "execution_count": null,
   "metadata": {},
   "outputs": [],
   "source": [
    "# Set style\n",
    "sns.set(font_scale=.9)\n",
    "sns.set_style(\"whitegrid\")\n",
    "\n",
    "# Print the frequency counts for \"User continent\"\n",
    "print(reviews[\"User continent\"].value_counts())\n",
    "\n",
    "# Convert \"User continent\" to a categorical variable\n",
    "reviews[\"User continent\"] = reviews[\"User continent\"].astype(\"category\")\n",
    "\n",
    "# Reorder \"User continent\" using continent_categories and rerun the graphic\n",
    "continent_categories = list(reviews[\"User continent\"].value_counts().index)\n",
    "reviews[\"User continent\"] = reviews[\"User continent\"].cat.reorder_categories(new_categories=continent_categories)\n",
    "sns.catplot(x=\"User continent\", y=\"Score\", data=reviews, kind=\"bar\")\n",
    "plt.show()"
   ]
  },
  {
   "cell_type": "code",
   "execution_count": null,
   "metadata": {},
   "outputs": [],
   "source": [
    "# Latihan 2\n",
    "# Add a second category to split the data on: \"Free internet\"\n",
    "sns.set(font_scale=2)\n",
    "sns.set_style(\"darkgrid\")\n",
    "sns.catplot(x=\"Casino\", y=\"Score\", data=reviews, kind=\"bar\", hue=\"Free internet\")\n",
    "plt.show()"
   ]
  },
  {
   "cell_type": "code",
   "execution_count": null,
   "metadata": {},
   "outputs": [],
   "source": [
    "# Switch the x and hue categories\n",
    "sns.set(font_scale=2)\n",
    "sns.set_style(\"darkgrid\")\n",
    "sns.catplot(x=\"Free internet\", y=\"Score\", data=reviews, kind=\"bar\", hue=\"Casino\")\n",
    "plt.show()"
   ]
  },
  {
   "cell_type": "code",
   "execution_count": null,
   "metadata": {},
   "outputs": [],
   "source": [
    "# Update x to be \"User continent\"\n",
    "sns.set(font_scale=2)\n",
    "sns.set_style(\"darkgrid\")\n",
    "sns.catplot(x=\"User continent\", y=\"Score\", data=reviews, kind=\"bar\", hue=\"Casino\")\n",
    "plt.show()"
   ]
  },
  {
   "cell_type": "code",
   "execution_count": null,
   "metadata": {},
   "outputs": [],
   "source": [
    "# Lower the font size so that all text fits on the screen.\n",
    "sns.set(font_scale = 1)\n",
    "sns.set_style(\"darkgrid\")\n",
    "sns.catplot(x=\"User continent\", y=\"Score\", data=reviews, kind=\"bar\", hue=\"Casino\")\n",
    "plt.show()"
   ]
  },
  {
   "cell_type": "markdown",
   "metadata": {},
   "source": [
    "Point and count plots"
   ]
  },
  {
   "cell_type": "code",
   "execution_count": null,
   "metadata": {},
   "outputs": [],
   "source": [
    "# Latihan 1\n",
    "# Create a point plot with catplot using \"Hotel stars\" and \"Nr. reviews\"\n",
    "sns.catplot(\n",
    "  # Split the data across Hotel stars and summarize Nr. reviews\n",
    "  y = \"Nr. reviews\",\n",
    "  x = \"Hotel stars\",\n",
    "  data=reviews,\n",
    "  # Specify a point plot\n",
    "  kind=\"point\",\n",
    "  hue=\"Pool\",\n",
    "  # Make sure the lines and points don't overlap\n",
    "  dodge=True\n",
    ")\n",
    "plt.show()"
   ]
  },
  {
   "cell_type": "code",
   "execution_count": null,
   "metadata": {},
   "outputs": [],
   "source": [
    "# Latihan 2\n",
    "sns.set(font_scale=1.4)\n",
    "sns.set_style(\"darkgrid\")\n",
    "\n",
    "# Create a catplot that will count the frequency of \"Score\" across \"Traveler type\"\n",
    "sns.catplot(\n",
    "  x=\"Score\",\n",
    "  data=reviews,\n",
    "  kind=\"count\",\n",
    "  hue=\"Traveler type\"\n",
    ")\n",
    "plt.show()"
   ]
  },
  {
   "cell_type": "markdown",
   "metadata": {},
   "source": [
    "Additional catplot() options"
   ]
  },
  {
   "cell_type": "code",
   "execution_count": null,
   "metadata": {},
   "outputs": [],
   "source": [
    "# Latihan 1\n",
    "# Create a catplot for each \"Period of stay\" broken down by \"Review weekday\"\n",
    "ax = sns.catplot(\n",
    "  # Make sure Review weekday is along the x-axis\n",
    "  x=\"Review weekday\",\n",
    "  # Specify Period of stay as the column to create individual graphics for\n",
    "  col=\"Period of stay\",\n",
    "  # Specify that a count plot should be created\n",
    "  kind=\"count\",\n",
    "  # Wrap the plots after every 2nd graphic.\n",
    "  col_wrap=2,\n",
    "  data=reviews\n",
    ")\n",
    "plt.show()"
   ]
  },
  {
   "cell_type": "code",
   "execution_count": null,
   "metadata": {},
   "outputs": [],
   "source": [
    "# Latihan 2\n",
    "# Adjust the color\n",
    "ax = sns.catplot(\n",
    "  x=\"Free internet\", y=\"Score\",\n",
    "  hue=\"Traveler type\", kind=\"bar\",\n",
    "  data=reviews,\n",
    "  palette=sns.color_palette(\"Set2\")\n",
    ")"
   ]
  },
  {
   "cell_type": "code",
   "execution_count": null,
   "metadata": {},
   "outputs": [],
   "source": [
    "# Adjust the color\n",
    "ax = sns.catplot(\n",
    "  x=\"Free internet\", y=\"Score\",\n",
    "  hue=\"Traveler type\", kind=\"bar\",\n",
    "  data=reviews,\n",
    "  palette=sns.color_palette(\"Set2\")\n",
    ")\n",
    "\n",
    "# Add a title\n",
    "ax.fig.suptitle(\"Hotel Score by Traveler Type and Free Internet Access\")"
   ]
  },
  {
   "cell_type": "code",
   "execution_count": null,
   "metadata": {},
   "outputs": [],
   "source": [
    "# Adjust the color\n",
    "ax = sns.catplot(\n",
    "  x=\"Free internet\", y=\"Score\",\n",
    "  hue=\"Traveler type\", kind=\"bar\",\n",
    "  data=reviews,\n",
    "  palette=sns.color_palette(\"Set2\")\n",
    ")\n",
    "\n",
    "# Add a title\n",
    "ax.fig.suptitle(\"Hotel Score by Traveler Type and Free Internet Access\")\n",
    "\n",
    "# Update the axis labels\n",
    "ax.set_axis_labels(\"Free Internet\", \"Average Review Rating\")"
   ]
  },
  {
   "cell_type": "code",
   "execution_count": null,
   "metadata": {},
   "outputs": [],
   "source": [
    "# Adjust the color\n",
    "ax = sns.catplot(\n",
    "  x=\"Free internet\", y=\"Score\",\n",
    "  hue=\"Traveler type\", kind=\"bar\",\n",
    "  data=reviews,\n",
    "  palette=sns.color_palette(\"Set2\")\n",
    ")\n",
    "\n",
    "# Add a title\n",
    "ax.fig.suptitle(\"Hotel Score by Traveler Type and Free Internet Access\")\n",
    "# Update the axis labels\n",
    "ax.set_axis_labels(\"Free Internet\", \"Average Review Rating\")\n",
    "\n",
    "# Adjust the starting height of the graphic\n",
    "plt.subplots_adjust(top=.93)\n",
    "plt.show()"
   ]
  },
  {
   "cell_type": "markdown",
   "metadata": {},
   "source": [
    "Categorical pitfalls"
   ]
  },
  {
   "cell_type": "code",
   "execution_count": null,
   "metadata": {},
   "outputs": [],
   "source": [
    "# Latihan 1\n",
    "# Print the frequency table of body_type and include NaN values\n",
    "print(used_cars[\"body_type\"].value_counts(dropna=False))"
   ]
  },
  {
   "cell_type": "code",
   "execution_count": null,
   "metadata": {},
   "outputs": [],
   "source": [
    "# Print the frequency table of body_type and include NaN values\n",
    "print(used_cars[\"body_type\"].value_counts(dropna=False))\n",
    "\n",
    "# Update NaN values\n",
    "used_cars.loc[used_cars[\"body_type\"].isna(), \"body_type\"] = \"other\""
   ]
  },
  {
   "cell_type": "code",
   "execution_count": null,
   "metadata": {},
   "outputs": [],
   "source": [
    "# Print the frequency table of body_type and include NaN values\n",
    "print(used_cars[\"body_type\"].value_counts(dropna=False))\n",
    "\n",
    "# Update NaN values\n",
    "used_cars.loc[used_cars[\"body_type\"].isna(), \"body_type\"] = \"other\"\n",
    "\n",
    "# Convert body_type to title case\n",
    "used_cars[\"body_type\"] = used_cars[\"body_type\"].str.title()"
   ]
  },
  {
   "cell_type": "code",
   "execution_count": null,
   "metadata": {},
   "outputs": [],
   "source": [
    "# Print the frequency table of body_type and include NaN values\n",
    "print(used_cars[\"body_type\"].value_counts(dropna=False))\n",
    "\n",
    "# Update NaN values\n",
    "used_cars.loc[used_cars[\"body_type\"].isna(), \"body_type\"] = \"other\"\n",
    "\n",
    "# Convert body_type to title case\n",
    "used_cars[\"body_type\"] = used_cars[\"body_type\"].str.title()\n",
    "\n",
    "# Check the dtype\n",
    "print(used_cars[\"body_type\"].dtype)"
   ]
  },
  {
   "cell_type": "code",
   "execution_count": null,
   "metadata": {},
   "outputs": [],
   "source": [
    "# Latihan 2\n",
    "# Print the frequency table of Sale Rating\n",
    "print(used_cars[\"Sale Rating\"].value_counts(dropna=True))"
   ]
  },
  {
   "cell_type": "code",
   "execution_count": null,
   "metadata": {},
   "outputs": [],
   "source": [
    "# Print the frequency table of Sale Rating\n",
    "print(used_cars[\"Sale Rating\"].value_counts())\n",
    "\n",
    "# Find the average score\n",
    "average_score = used_cars[\"Sale Rating\"].astype(int).mean()\n",
    "\n",
    "# Print the average\n",
    "print(average_score)"
   ]
  },
  {
   "cell_type": "markdown",
   "metadata": {},
   "source": [
    "Label encoding"
   ]
  },
  {
   "cell_type": "code",
   "execution_count": null,
   "metadata": {},
   "outputs": [],
   "source": [
    "# Latihan 1\n",
    "# Convert to categorical and print the frequency table\n",
    "used_cars[\"color\"] = used_cars[\"color\"].astype(\"category\")\n",
    "print(used_cars[\"color\"].value_counts())"
   ]
  },
  {
   "cell_type": "code",
   "execution_count": null,
   "metadata": {},
   "outputs": [],
   "source": [
    "# Convert to categorical and print the frequency table\n",
    "used_cars[\"color\"] = used_cars[\"color\"].astype(\"category\")\n",
    "print(used_cars[\"color\"].value_counts())\n",
    "\n",
    "# Create a label encoding\n",
    "used_cars[\"color_code\"] = used_cars[\"color\"].cat.codes"
   ]
  },
  {
   "cell_type": "code",
   "execution_count": null,
   "metadata": {},
   "outputs": [],
   "source": [
    "# Convert to categorical and print the frequency table\n",
    "used_cars[\"color\"] = used_cars[\"color\"].astype(\"category\")\n",
    "print(used_cars[\"color\"].value_counts())\n",
    "\n",
    "# Create a label encoding\n",
    "used_cars[\"color_code\"] = used_cars[\"color\"].cat.codes\n",
    "\n",
    "# Create codes and categories objects\n",
    "codes = used_cars['color_code']\n",
    "categories = used_cars[\"color\"]\n",
    "color_map = dict(zip(codes, categories))"
   ]
  },
  {
   "cell_type": "code",
   "execution_count": null,
   "metadata": {},
   "outputs": [],
   "source": [
    "# Convert to categorical and print the frequency table\n",
    "used_cars[\"color\"] = used_cars[\"color\"].astype(\"category\")\n",
    "print(used_cars[\"color\"].value_counts())\n",
    "\n",
    "# Create a label encoding\n",
    "used_cars[\"color_code\"] = used_cars[\"color\"].cat.codes\n",
    "\n",
    "# Create codes and categories objects\n",
    "codes = used_cars[\"color\"].cat.codes\n",
    "categories = used_cars[\"color\"]\n",
    "color_map = dict(zip(codes, categories))\n",
    "\n",
    "# Print the map\n",
    "print(color_map)"
   ]
  },
  {
   "cell_type": "code",
   "execution_count": null,
   "metadata": {},
   "outputs": [],
   "source": [
    "# Latihan 2\n",
    "# Update the color column using the color_map\n",
    "used_cars_updated[\"color\"] = used_cars_updated[\"color\"].map(color_map)\n",
    "# Update the engine fuel column using the fuel_map\n",
    "used_cars_updated[\"engine_fuel\"] = used_cars_updated[\"engine_fuel\"].map(fuel_map)\n",
    "# Update the transmission column using the transmission_map\n",
    "used_cars_updated[\"transmission\"] = used_cars_updated[\"transmission\"].map(transmission_map)\n",
    "\n",
    "# Print the info statement\n",
    "print(used_cars_updated.info())"
   ]
  },
  {
   "cell_type": "code",
   "execution_count": null,
   "metadata": {},
   "outputs": [],
   "source": [
    "# Latihan 3\n",
    "# Print the manufacturer name frequency table\n",
    "print(used_cars[\"manufacturer_name\"].value_counts(dropna=False))"
   ]
  },
  {
   "cell_type": "code",
   "execution_count": null,
   "metadata": {},
   "outputs": [],
   "source": [
    "# Print the manufacturer name frequency table\n",
    "print(used_cars[\"manufacturer_name\"].value_counts())\n",
    "\n",
    "# Create a Boolean column based on if the manufacturer name that contain Volkswagen\n",
    "used_cars[\"is_volkswagen\"] = np.where(\n",
    "  used_cars[\"manufacturer_name\"].str.contains(\"Volkswagen\", regex=False), True, False\n",
    ")"
   ]
  },
  {
   "cell_type": "code",
   "execution_count": null,
   "metadata": {},
   "outputs": [],
   "source": [
    "# Print the manufacturer name frequency table\n",
    "print(used_cars[\"manufacturer_name\"].value_counts())\n",
    "\n",
    "# Create a Boolean column based on if the manufacturer name that contain Volkswagen: using 0s an 1s\n",
    "used_cars[\"is_volkswagen\"] = np.where(\n",
    "  used_cars[\"manufacturer_name\"].str.contains(\"Volkswagen\", regex=False), 1, 0\n",
    ")"
   ]
  },
  {
   "cell_type": "code",
   "execution_count": null,
   "metadata": {},
   "outputs": [],
   "source": [
    "# Print the \"manufacturer_name\" frequency table.\n",
    "print(used_cars[\"manufacturer_name\"].value_counts())\n",
    "\n",
    "# Create a Boolean column for the most common manufacturer name\n",
    "used_cars[\"is_volkswagen\"] = np.where(\n",
    "  used_cars[\"manufacturer_name\"].str.contains(\"Volkswagen\", regex=False), 1, 0\n",
    ")\n",
    "  \n",
    "# Check the final frequency table\n",
    "print(used_cars[\"is_volkswagen\"].value_counts())"
   ]
  },
  {
   "cell_type": "markdown",
   "metadata": {},
   "source": [
    "One-hot encoding"
   ]
  },
  {
   "cell_type": "code",
   "execution_count": null,
   "metadata": {},
   "outputs": [],
   "source": [
    "# Latihan 1\n",
    "# Create one-hot encoding for just two columns\n",
    "used_cars_simple = pd.get_dummies(\n",
    "  used_cars,\n",
    "  # Specify the columns from the instructions\n",
    "  columns=[\"manufacturer_name\", \"transmission\"],\n",
    "  # Set the prefix\n",
    "  prefix=\"dummy\"\n",
    ")\n",
    "\n",
    "# Print the shape of the new dataset\n",
    "print(used_cars_simple.shape)"
   ]
  }
 ],
 "metadata": {
  "language_info": {
   "name": "python"
  },
  "orig_nbformat": 4
 },
 "nbformat": 4,
 "nbformat_minor": 2
}
